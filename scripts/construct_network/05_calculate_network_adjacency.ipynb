{
 "cells": [
  {
   "cell_type": "code",
   "execution_count": 17,
   "metadata": {},
   "outputs": [],
   "source": [
    "import pandas as pd\n",
    "import numpy as np\n",
    "import os"
   ]
  },
  {
   "cell_type": "code",
   "execution_count": 18,
   "metadata": {},
   "outputs": [],
   "source": [
    "def calculate_and_save_adjacency_matrices(end_dates, data_dir = './../../data/processed', thresholds = [0.5], is_srd = False):\n",
    "    for threshold in thresholds:\n",
    "        adj_mat_subfolder = f'threshold-{threshold}-srd' if is_srd else f\"threshold-{threshold}\"\n",
    "        adj_mat_path = f'{data_dir}/adjacency_matrices/{adj_mat_subfolder}'\n",
    "\n",
    "        cor_mat_folder = 'correlation_matrices-srd' if is_srd else 'correlation_matrices'\n",
    "        cor_mat_path = f'{data_dir}/{cor_mat_folder}'\n",
    "\n",
    "        if not os.path.exists(adj_mat_path):\n",
    "            os.mkdir(adj_mat_path)\n",
    "\n",
    "        for end_date in end_dates:\n",
    "            corr_df = pd.read_pickle(f'{cor_mat_path}/{end_date}.pkl')\n",
    "\n",
    "            adjacency_matrix = np.where(corr_df.values >= threshold, 1, 0)\n",
    "            corr_df.iloc[:, :] = adjacency_matrix\n",
    "            \n",
    "            corr_df.to_csv(f'{adj_mat_path}/{end_date}.csv')\n",
    "            corr_df.to_pickle(f'{adj_mat_path}/{end_date}.pkl')"
   ]
  },
  {
   "attachments": {},
   "cell_type": "markdown",
   "metadata": {},
   "source": [
    "# For untreated network"
   ]
  },
  {
   "cell_type": "code",
   "execution_count": 19,
   "metadata": {},
   "outputs": [
    {
     "data": {
      "text/plain": [
       "736"
      ]
     },
     "execution_count": 19,
     "metadata": {},
     "output_type": "execute_result"
    }
   ],
   "source": [
    "gt_df = pd.read_csv('./../../data/external/gt/data.csv', parse_dates=['date'])\n",
    "dates = gt_df['date'].dt.date\n",
    "del gt_df\n",
    "\n",
    "window_width = 29\n",
    "\n",
    "selection_index_array = [(index, index + window_width) for index in range(len(dates) - window_width)]\n",
    "end_dates = [dates[index] for (_, index) in selection_index_array]\n",
    "len(end_dates)"
   ]
  },
  {
   "cell_type": "code",
   "execution_count": 20,
   "metadata": {},
   "outputs": [],
   "source": [
    "calculate_and_save_adjacency_matrices(end_dates=end_dates)"
   ]
  },
  {
   "attachments": {},
   "cell_type": "markdown",
   "metadata": {},
   "source": [
    "# For treated (SRD) network"
   ]
  },
  {
   "cell_type": "code",
   "execution_count": 21,
   "metadata": {},
   "outputs": [
    {
     "data": {
      "text/plain": [
       "735"
      ]
     },
     "execution_count": 21,
     "metadata": {},
     "output_type": "execute_result"
    }
   ],
   "source": [
    "srd_df = pd.read_pickle('./../../data/processed/gt_srd.pkl')\n",
    "dates = srd_df['date'].values\n",
    "del srd_df\n",
    "\n",
    "window_width = 29\n",
    "\n",
    "selection_index_array = [(index, index + window_width) for index in range(len(dates) - window_width)]\n",
    "end_dates = [dates[index] for (_, index) in selection_index_array]\n",
    "len(end_dates)"
   ]
  },
  {
   "cell_type": "code",
   "execution_count": 22,
   "metadata": {},
   "outputs": [],
   "source": [
    "calculate_and_save_adjacency_matrices(end_dates=end_dates, is_srd = True)"
   ]
  }
 ],
 "metadata": {
  "kernelspec": {
   "display_name": "Python 3.9.12 ('network')",
   "language": "python",
   "name": "python3"
  },
  "language_info": {
   "codemirror_mode": {
    "name": "ipython",
    "version": 3
   },
   "file_extension": ".py",
   "mimetype": "text/x-python",
   "name": "python",
   "nbconvert_exporter": "python",
   "pygments_lexer": "ipython3",
   "version": "3.9.12"
  },
  "orig_nbformat": 4,
  "vscode": {
   "interpreter": {
    "hash": "78e082af443e87a1620ec82c2fce242a18414551eac914730d5b559982cbecfa"
   }
  }
 },
 "nbformat": 4,
 "nbformat_minor": 2
}
