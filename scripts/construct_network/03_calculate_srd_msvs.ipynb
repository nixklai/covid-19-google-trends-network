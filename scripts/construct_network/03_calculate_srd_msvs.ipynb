{
 "cells": [
  {
   "cell_type": "code",
   "execution_count": 6,
   "metadata": {},
   "outputs": [],
   "source": [
    "import pandas as pd"
   ]
  },
  {
   "cell_type": "code",
   "execution_count": 7,
   "metadata": {},
   "outputs": [
    {
     "name": "stdout",
     "output_type": "stream",
     "text": [
      "full_df.shape=(765, 229)\n"
     ]
    }
   ],
   "source": [
    "full_df = pd.read_csv('./../../data/external/gt/data.csv')\n",
    "print(f\"{full_df.shape=}\")"
   ]
  },
  {
   "attachments": {},
   "cell_type": "markdown",
   "metadata": {},
   "source": [
    "# Prepare square-root-differenced MSVs"
   ]
  },
  {
   "cell_type": "code",
   "execution_count": 8,
   "metadata": {},
   "outputs": [
    {
     "name": "stdout",
     "output_type": "stream",
     "text": [
      "srd_df.shape=(764, 229)\n"
     ]
    }
   ],
   "source": [
    "sqrt_df = full_df.copy()\n",
    "sqrt_df.iloc[:, 1:] = sqrt_df.iloc[:, 1:] ** 0.5 # square root\n",
    "\n",
    "srd_df = sqrt_df\n",
    "srd_df.iloc[:, 1:] = srd_df.iloc[:, 1:].diff()\n",
    "srd_df = srd_df[1:] # Drop one\n",
    "\n",
    "srd_df.reset_index(drop=True, inplace=True)\n",
    "srd_df.to_pickle('../../data/processed/gt_srd.pkl')\n",
    "print(f\"{srd_df.shape=}\")"
   ]
  }
 ],
 "metadata": {
  "kernelspec": {
   "display_name": "Python 3.9.12 ('network')",
   "language": "python",
   "name": "python3"
  },
  "language_info": {
   "codemirror_mode": {
    "name": "ipython",
    "version": 3
   },
   "file_extension": ".py",
   "mimetype": "text/x-python",
   "name": "python",
   "nbconvert_exporter": "python",
   "pygments_lexer": "ipython3",
   "version": "3.9.12"
  },
  "orig_nbformat": 4,
  "vscode": {
   "interpreter": {
    "hash": "78e082af443e87a1620ec82c2fce242a18414551eac914730d5b559982cbecfa"
   }
  }
 },
 "nbformat": 4,
 "nbformat_minor": 2
}
