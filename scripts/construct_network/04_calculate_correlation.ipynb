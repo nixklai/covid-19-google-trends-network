{
 "cells": [
  {
   "cell_type": "code",
   "execution_count": 1,
   "metadata": {},
   "outputs": [],
   "source": [
    "import pandas as pd\n",
    "import numpy as np"
   ]
  },
  {
   "attachments": {},
   "cell_type": "markdown",
   "metadata": {},
   "source": [
    "# Original Dataframe\n",
    "This section of the code segments the full set of MSVs matrix into multiple shorter MSVs matrices, and then calculate the correlation matrices."
   ]
  },
  {
   "cell_type": "code",
   "execution_count": 2,
   "metadata": {},
   "outputs": [],
   "source": [
    "gt_df = pd.read_csv('./../../data/external/gt/data.csv', parse_dates=['date'])\n",
    "dates = gt_df['date'].dt.date\n",
    "window_width = 29"
   ]
  },
  {
   "cell_type": "code",
   "execution_count": 3,
   "metadata": {},
   "outputs": [],
   "source": [
    "selection_index_array = [(index, index + window_width) for index in range(len(dates) - window_width)]\n",
    "end_dates = [dates[index] for (_, index) in selection_index_array]"
   ]
  },
  {
   "cell_type": "code",
   "execution_count": 4,
   "metadata": {},
   "outputs": [],
   "source": [
    "for (start_index, end_index) in selection_index_array:\n",
    "    end_date = dates[end_index]\n",
    "    partial_df = gt_df.iloc[start_index:end_index, 1:]\n",
    "    correlation_df = partial_df.corr()\n",
    "\n",
    "    # Fill \"0\" MSV with correlation \"0\"\n",
    "    correlation_df.fillna(value=0, inplace=True)\n",
    "\n",
    "    # Remove diagonial (self-looped edges)\n",
    "    correlation_df.iloc[:, :] = correlation_df.values - np.identity(correlation_df.shape[0])\n",
    "\n",
    "    # Export to .csv for human inspection\n",
    "    # correlation_df.to_csv(f'./../../data/processed/correlation_matrices/{end_date}.csv')\n",
    "\n",
    "    # Export to .pkl for further processing\n",
    "    correlation_df.to_pickle(f'./../../data/processed/correlation_matrices/{end_date}.pkl')"
   ]
  },
  {
   "attachments": {},
   "cell_type": "markdown",
   "metadata": {},
   "source": [
    "# Square-root-differenced Dataframe\n",
    "We repeat the same procedure for the Square-root differenced dataframe."
   ]
  },
  {
   "cell_type": "code",
   "execution_count": 5,
   "metadata": {},
   "outputs": [],
   "source": [
    "srd_df = pd.read_pickle('./../../data/processed/gt_srd.pkl')\n",
    "dates = srd_df['date'].values \n",
    "window_width = 29"
   ]
  },
  {
   "cell_type": "code",
   "execution_count": 6,
   "metadata": {},
   "outputs": [
    {
     "data": {
      "text/plain": [
       "735"
      ]
     },
     "execution_count": 6,
     "metadata": {},
     "output_type": "execute_result"
    }
   ],
   "source": [
    "selection_index_array = [(index, index + window_width) for index in range(len(dates) - window_width)]\n",
    "end_dates = [dates[index] for (_, index) in selection_index_array]\n",
    "len(end_dates)"
   ]
  },
  {
   "cell_type": "code",
   "execution_count": 7,
   "metadata": {},
   "outputs": [],
   "source": [
    "for (start_index, end_index) in selection_index_array:\n",
    "    end_date = dates[end_index]\n",
    "    partial_df = srd_df.iloc[start_index:end_index, 1:]\n",
    "    correlation_df = partial_df.corr()\n",
    "\n",
    "    # Fill \"0\" MSV with correlation \"0\"\n",
    "    correlation_df.fillna(value=0, inplace=True)\n",
    "\n",
    "    # Remove diagonial (self-looped edges)\n",
    "    correlation_df.iloc[:, :] = correlation_df.values - np.identity(correlation_df.shape[0])\n",
    "    \n",
    "    # Export to .csv for human inspection\n",
    "    # correlation_df.to_csv(f'./../../data/processed/correlation_matrices-srd/{end_date}.csv')\n",
    "\n",
    "    # Export to .pkl for further processing\n",
    "    correlation_df.to_pickle(f'./../../data/processed/correlation_matrices-srd/{end_date}.pkl')"
   ]
  }
 ],
 "metadata": {
  "kernelspec": {
   "display_name": "Python 3.9.12 ('network')",
   "language": "python",
   "name": "python3"
  },
  "language_info": {
   "codemirror_mode": {
    "name": "ipython",
    "version": 3
   },
   "file_extension": ".py",
   "mimetype": "text/x-python",
   "name": "python",
   "nbconvert_exporter": "python",
   "pygments_lexer": "ipython3",
   "version": "3.9.12"
  },
  "orig_nbformat": 4,
  "vscode": {
   "interpreter": {
    "hash": "78e082af443e87a1620ec82c2fce242a18414551eac914730d5b559982cbecfa"
   }
  }
 },
 "nbformat": 4,
 "nbformat_minor": 2
}
